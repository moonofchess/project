{
 "cells": [
  {
   "cell_type": "code",
   "execution_count": 2,
   "id": "730dea16",
   "metadata": {},
   "outputs": [
    {
     "name": "stdout",
     "output_type": "stream",
     "text": [
      "Collecting chromedriver_autoinstaller\n",
      "  Downloading chromedriver_autoinstaller-0.2.2-py3-none-any.whl (5.9 kB)\n",
      "Installing collected packages: chromedriver-autoinstaller\n",
      "Successfully installed chromedriver-autoinstaller-0.2.2\n"
     ]
    }
   ],
   "source": [
    "!pip install chromedriver_autoinstaller"
   ]
  },
  {
   "cell_type": "code",
   "execution_count": 3,
   "id": "cc4a2231",
   "metadata": {},
   "outputs": [],
   "source": [
    "import bs4\n",
    "import requests\n",
    "import pandas as pd\n",
    "import numpy as np\n",
    "import time\n",
    "import os\n",
    "from tqdm import tqdm_notebook\n",
    "from bs4 import BeautifulSoup\n",
    "from IPython.display import clear_output\n",
    "import chromedriver_autoinstaller\n",
    "from selenium import webdriver\n",
    "from tqdm import tqdm\n",
    "\n",
    "from selenium.webdriver.support.ui import WebDriverWait\n",
    "from selenium.webdriver.support import expected_conditions as EC\n",
    "from selenium.webdriver.common.by import By"
   ]
  },
  {
   "cell_type": "code",
   "execution_count": 4,
   "id": "d9e90acf",
   "metadata": {},
   "outputs": [],
   "source": [
    "def get_page(pagenum) :\n",
    "    page_base = 'https://finance.naver.com/research/industry_list.nhn?keyword=&brokerCode=&writeFromDate=&writeToDate=&searchType=upjong&upjong=%C5%EB%BD%C5&x=57&y=22&page={}'\n",
    "    page = page_base.format(pagenum)\n",
    "    return page"
   ]
  },
  {
   "cell_type": "code",
   "execution_count": 5,
   "id": "f7ba357f",
   "metadata": {},
   "outputs": [],
   "source": [
    "def get_links(page) :\n",
    "    html = requests.get(page).text\n",
    "    time.sleep(0.1)\n",
    "    soup = BeautifulSoup(html, 'html.parser', )\n",
    "    \n",
    "    links_all = soup.select('div.box_type_m tr > td > a')\n",
    "    links = []\n",
    "    for lll in links_all:\n",
    "        if 'industry_read.nhn?' in lll['href'] :\n",
    "            link = 'https://finance.naver.com/research/' + lll['href']\n",
    "            links.append(link)\n",
    "            \n",
    "    return links"
   ]
  },
  {
   "cell_type": "code",
   "execution_count": 10,
   "id": "a5b06978",
   "metadata": {},
   "outputs": [],
   "source": [
    "def get_report(link) :\n",
    "    html = requests.get(link).text\n",
    "    time.sleep(0.1)\n",
    "    soup = BeautifulSoup(html, 'html.parser')\n",
    "    report = []\n",
    "#     stock = soup.select('em')[0].text\n",
    "#     target = soup.select('em > strong')[0].text\n",
    "#     reco = soup.select('em.coment')[0].text\n",
    "    \n",
    "    title_del = soup.select('th.view_sbj > p.source')[0].text\n",
    "    title = soup.select('th.view_sbj')[0].text.replace(title_del,'').strip()\n",
    "    repor = soup.select('div.box_type_m.box_type_m3 > table > tr > td.view_cnt > div > p')\n",
    "#     report = soup.select('td.view_cnt > div')[0].text.replace('\\n','').strip()\n",
    "    \n",
    "    company = title_del.split('|')[0]\n",
    "    date = title_del.split('|')[1]\n",
    "#     pdf = soup.select('a.con_link')[0]['href']\n",
    "    \n",
    "    for i in range(len(repor)):\n",
    "        report.append(repor[i].text.strip())\n",
    "    \n",
    "    if repor == [] :\n",
    "        repor = soup.select('div.box_type_m.box_type_m3 > table > tr > td.view_cnt > div')\n",
    "        report.append(repor[0].text.strip())\n",
    "#     pdf = soup.select('a.con_link')[0]['href']\n",
    "    \n",
    "#     result = [stock, target, reco, title, report, company, date, pdf]\n",
    "    result = [title, report, company, date]\n",
    "    return result"
   ]
  },
  {
   "cell_type": "code",
   "execution_count": 7,
   "id": "442351fe",
   "metadata": {},
   "outputs": [],
   "source": [
    "def get_stock_report(totalpage, fname) :\n",
    "    \n",
    "    links = []\n",
    "    for i in tqdm_notebook(range(1,totalpage),desc = '점검중') :\n",
    "        page = get_page(i)\n",
    "        links += get_links(page)\n",
    "        \n",
    "    print('{}개의 산업분석 리포트를 찾았습니다.'.format(len(links)))\n",
    "    print('리포트 수집을 진행합니다.\\n')\n",
    "    \n",
    "    results = []\n",
    "    for link in tqdm_notebook(links, desc ='리포트') :\n",
    "        result = get_report(link)\n",
    "        results.append(result)\n",
    "        \n",
    "    datas = pd.DataFrame(results)\n",
    "#     datas.columns = ['종목명','목표가','의견','제목','내용','회사','일자','보고서']\n",
    "    datas.columns = ['제목','내용','회사','일자']\n",
    "    datas.to_csv(fname)\n",
    "    print('{}개의 산업분석 리포트 수집 완료.'.format(len(results)))"
   ]
  },
  {
   "cell_type": "code",
   "execution_count": 8,
   "id": "748cc018",
   "metadata": {},
   "outputs": [],
   "source": [
    "totalpage = 13\n",
    "fname = '산업분석리포트.csv'"
   ]
  },
  {
   "cell_type": "code",
   "execution_count": 9,
   "id": "ef95379a",
   "metadata": {},
   "outputs": [
    {
     "name": "stderr",
     "output_type": "stream",
     "text": [
      "<ipython-input-7-2beb5773488b>:4: TqdmDeprecationWarning: This function will be removed in tqdm==5.0.0\n",
      "Please use `tqdm.notebook.tqdm` instead of `tqdm.tqdm_notebook`\n",
      "  for i in tqdm_notebook(range(1,totalpage),desc = '점검중') :\n"
     ]
    },
    {
     "data": {
      "application/vnd.jupyter.widget-view+json": {
       "model_id": "cf6dcd6b239d417db010a72997a91269",
       "version_major": 2,
       "version_minor": 0
      },
      "text/plain": [
       "점검중:   0%|          | 0/12 [00:00<?, ?it/s]"
      ]
     },
     "metadata": {},
     "output_type": "display_data"
    },
    {
     "name": "stdout",
     "output_type": "stream",
     "text": [
      "360개의 산업분석 리포트를 찾았습니다.\n",
      "리포트 수집을 진행합니다.\n",
      "\n"
     ]
    },
    {
     "name": "stderr",
     "output_type": "stream",
     "text": [
      "<ipython-input-7-2beb5773488b>:12: TqdmDeprecationWarning: This function will be removed in tqdm==5.0.0\n",
      "Please use `tqdm.notebook.tqdm` instead of `tqdm.tqdm_notebook`\n",
      "  for link in tqdm_notebook(links, desc ='리포트') :\n"
     ]
    },
    {
     "data": {
      "application/vnd.jupyter.widget-view+json": {
       "model_id": "91d4fabf0d33428a9bd497a3e19d7314",
       "version_major": 2,
       "version_minor": 0
      },
      "text/plain": [
       "리포트:   0%|          | 0/360 [00:00<?, ?it/s]"
      ]
     },
     "metadata": {},
     "output_type": "display_data"
    },
    {
     "name": "stdout",
     "output_type": "stream",
     "text": [
      "360개의 산업분석 리포트 수집 완료.\n"
     ]
    }
   ],
   "source": [
    "get_stock_report(totalpage,fname)"
   ]
  },
  {
   "cell_type": "code",
   "execution_count": null,
   "id": "212e3771",
   "metadata": {},
   "outputs": [],
   "source": []
  },
  {
   "cell_type": "code",
   "execution_count": null,
   "id": "ffaf39a0",
   "metadata": {},
   "outputs": [],
   "source": []
  },
  {
   "cell_type": "code",
   "execution_count": null,
   "id": "6caf0683",
   "metadata": {},
   "outputs": [],
   "source": []
  },
  {
   "cell_type": "code",
   "execution_count": null,
   "id": "09fbf615",
   "metadata": {},
   "outputs": [],
   "source": []
  },
  {
   "cell_type": "code",
   "execution_count": null,
   "id": "b6b11b08",
   "metadata": {},
   "outputs": [],
   "source": []
  },
  {
   "cell_type": "code",
   "execution_count": null,
   "id": "437b67bb",
   "metadata": {},
   "outputs": [],
   "source": []
  },
  {
   "cell_type": "code",
   "execution_count": null,
   "id": "42621ed1",
   "metadata": {},
   "outputs": [],
   "source": []
  }
 ],
 "metadata": {
  "kernelspec": {
   "display_name": "Python 3",
   "language": "python",
   "name": "python3"
  },
  "language_info": {
   "codemirror_mode": {
    "name": "ipython",
    "version": 3
   },
   "file_extension": ".py",
   "mimetype": "text/x-python",
   "name": "python",
   "nbconvert_exporter": "python",
   "pygments_lexer": "ipython3",
   "version": "3.8.11"
  },
  "toc": {
   "base_numbering": 1,
   "nav_menu": {},
   "number_sections": true,
   "sideBar": true,
   "skip_h1_title": false,
   "title_cell": "Table of Contents",
   "title_sidebar": "Contents",
   "toc_cell": false,
   "toc_position": {},
   "toc_section_display": true,
   "toc_window_display": false
  }
 },
 "nbformat": 4,
 "nbformat_minor": 5
}
